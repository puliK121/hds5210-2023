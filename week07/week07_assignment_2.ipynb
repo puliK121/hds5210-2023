{
  "cells": [
    {
      "cell_type": "markdown",
      "metadata": {
        "id": "9lhB1LObjcCt"
      },
      "source": [
        "# Week 7 Assignment\n",
        "\n",
        "We've been working with different types of data structures in Python (dictionary, list, etc), how those are represented in JSON documents, and how to write code to access specific data elements. In this week's assignment, you will need to create your own JSON document to store information about yourself and the grades you've received from week 1 to week 4 and the week 6 quiz.  That is, everything you should have received a grade for.  Then you'll need to show me you know how to navigate the JSON in that file.\n",
        "\n",
        "Different from what we've done in the past, you do not have to write any functions or include any docstrings.  Just create some JSON and write some code.\n",
        "\n",
        "---"
      ]
    },
    {
      "cell_type": "markdown",
      "metadata": {
        "id": "A2dKSfdxjcCv"
      },
      "source": [
        "## 7.1 Create a JSON string\n",
        "\n",
        "Create a JSON string that contains your name, email, year you were born, all of the grades you've received back so far, and a comment about what you thought was most challenging on each of those assignments.  This can be any structure you choose, but make sure it uses a dictionary and a list, and has at least two levels of hierarchy.  That is, it can't just be one big long list."
      ]
    },
    {
      "cell_type": "markdown",
      "metadata": {
        "id": "TfLO_RlPjcCv"
      },
      "source": [
        "First, explain how your data structure is going to look..."
      ]
    },
    {
      "cell_type": "markdown",
      "metadata": {
        "id": "sQKvL8yBjcCw"
      },
      "source": [
        "The JSON data represents information for me,including my name,email address, grades for assignments,and comments on each assignment,all organized in a structured format using dictionaries and lists.* Put your explanation here in text..."
      ]
    },
    {
      "cell_type": "markdown",
      "metadata": {
        "id": "KiE_o-9djcCw"
      },
      "source": [
        "Then put the actual JSON you've created inside the multiline string below..."
      ]
    },
    {
      "cell_type": "code",
      "execution_count": 27,
      "metadata": {
        "id": "7T4EFvyOjcCw"
      },
      "outputs": [],
      "source": [
        "hds5210 = \"\"\"\n",
        "\n",
        "{\n",
        "  \"my_personal_info\": {\n",
        "      \"name\": \"VENKATA PHANINDRA BABU PULI\",\n",
        "      \"my_email\": \"vpuli11@slu.edu\",\n",
        "      \"year_of_birth\":1996\n",
        "  },\n",
        "  \"assignment\": [\n",
        "      }\n",
        "         \"assignment\": \"week01\",\n",
        "         \"grade\": 10,\n",
        "         \"most_challenging\": \"I like reading the content.\"\n",
        "      },\n",
        "      }\n",
        "         \"assignment\": \"week02\",\n",
        "         \"grade\": 10,\n",
        "         \"most_challenging\": \"Tough but satisfying.\"\n",
        "      },\n",
        "      }\n",
        "        \"assignment\": \"week03\",\n",
        "        \"grade\": 10,\n",
        "        \"most_challenging\": \"Taking pleasure in completing the responsibilities.\"\n",
        "      }\n",
        "      }\n",
        "        \"assignment\": \"week04\",\n",
        "        \"grade\": 10,\n",
        "        \"most_challenging\": \"The assignments were enjoyable.\"\n",
        "      }\n",
        "      }\n",
        "        \"assignment\": \"week06_quiz\",\n",
        "        \"grade\": 05,\n",
        "        \"most_challenging\": \"Had trouble understanding the ideas.\"\n",
        "      }\n",
        "    }\n",
        " }\n",
        " \"\"\"\n",
        "\n",
        "\n",
        "\n",
        "\n",
        "\n",
        "\n",
        "\n",
        "\n",
        "\n",
        "\n"
      ]
    },
    {
      "cell_type": "markdown",
      "metadata": {
        "id": "vgwyuCWIjcCx"
      },
      "source": [
        "## 7.2 Do something with your JSON\n",
        "\n",
        "Now use Python code to do something with the Json above.  Turn it into English text, but make sure that you use at least one loop to access some dict or list content of your JSON.  Below, I've provided some basic code to read in the string above as JSON and return a Python object.  Your job is to work with that data structure and print out the important information like your name, email, and how you did on each assignment."
      ]
    },
    {
      "cell_type": "code",
      "execution_count": 28,
      "metadata": {
        "id": "lurgChMVjcCx",
        "outputId": "30506e91-f724-42ca-cf0d-e0414e3ef4b1",
        "colab": {
          "base_uri": "https://localhost:8080/"
        }
      },
      "outputs": [
        {
          "output_type": "stream",
          "name": "stdout",
          "text": [
            "Hello, my name is VENKATA PHANINDRA BABU PULI.\n",
            "I am a 1996-born student pursuing a Masters in Health Data Science at Saint Louis University.\n",
            "Currently enrolled in the course hds5210 under the guidance of Professor Paul Boal.\n",
            "I began my academic journey in August 2023, and it is expected to conclude in May 2025.\n",
            "Throughout the course, I have been actively engaged in various weekly assignments, earning grades such as 10 in Week 1, where I found the material particularly engaging.\n",
            "Week 2 was tough but satisfying, and I earned a grade of 10.\n",
            "Week 3 was enjoyable, and I earned a grade of 10.\n",
            "However, week 4 proved more complex, resulting in a grade of 10, as I struggled a bit with the intricacies.\n",
            "In week 6, I found difficulty grasping some concepts, leading to a grade of 5.\n",
            "Outside of academics, my hobbies include Cricket, Movies, Trekking.\n"
          ]
        }
      ],
      "source": [
        "\n",
        "import json\n",
        "\n",
        "# JSON data as a string\n",
        "hds5210 = '''\n",
        "{\n",
        "  \"name\": \"VENKATA PHANINDRA BABU PULI\",\n",
        "  \"email\": \"vpuli11@slu.edu\",\n",
        "  \"year_born\": 1996,\n",
        "  \"university\": \"Saint Louis University\",\n",
        "  \"Course\": \"Masters in Health Data Science\",\n",
        "  \"course_duration\": {\n",
        "    \"start_date\": \"August 2023\",\n",
        "    \"end_date\": \"May 2025\"\n",
        "  },\n",
        "  \"subject\": \"hds5210\",\n",
        "  \"professor\": \"Paul Boal\",\n",
        "  \"grades_and_comments\": {\n",
        "    \"week1\": {\"grade\": 10, \"Comment\": \"I like reading the content.\"},\n",
        "    \"week2\": {\"grade\": 10, \"Comment\": \"Tough but satisfying.\"},\n",
        "    \"week3\": {\"grade\": 10, \"Comment\": \"Taking pleasure in completing the responsibilities.\"},\n",
        "    \"week4\": {\"grade\": 10, \"Comment\": \"The assignments were enjoyable.\"},\n",
        "    \"week6\": {\"grade\": 5, \"Comment\": \"Had trouble understanding the ideas.\"}\n",
        "  },\n",
        "  \"hobbies\": [\"Cricket\", \"Movies\", \"Trekking\"]\n",
        "}\n",
        "'''\n",
        "\n",
        "# Load the JSON data\n",
        "info = json.loads(hds5210)\n",
        "\n",
        "# Generate the paragraph\n",
        "paragraph = (\n",
        "    f\"Hello, my name is {info['name']}.\\n\"\n",
        "    f\"I am a {info['year_born']}-born student pursuing a {info['Course']} at {info['university']}.\\n\"\n",
        "    f\"Currently enrolled in the course {info['subject']} under the guidance of Professor {info['professor']}.\\n\"\n",
        "    f\"I began my academic journey in {info['course_duration']['start_date']}, and it is expected to conclude in {info['course_duration']['end_date']}.\\n\"\n",
        "    f\"Throughout the course, I have been actively engaged in various weekly assignments, earning grades such as {info['grades_and_comments']['week1']['grade']} in Week 1, where I found the material particularly engaging.\\n\"\n",
        "    f\"Week 2 was tough but satisfying, and I earned a grade of {info['grades_and_comments']['week2']['grade']}.\\n\"\n",
        "    f\"Week 3 was enjoyable, and I earned a grade of {info['grades_and_comments']['week3']['grade']}.\\n\"\n",
        "    f\"However, week 4 proved more complex, resulting in a grade of {info['grades_and_comments']['week4']['grade']}, as I struggled a bit with the intricacies.\\n\"\n",
        "    f\"In week 6, I found difficulty grasping some concepts, leading to a grade of {info['grades_and_comments']['week6']['grade']}.\\n\"\n",
        "    f\"Outside of academics, my hobbies include {', '.join(info['hobbies'])}.\"\n",
        ")\n",
        "\n",
        "# Finally, print the paragraph\n",
        "print(paragraph)\n",
        "\n",
        "info = json.loads(hds5210)\n",
        "# Put your code to output a paragraph of English text here"
      ]
    },
    {
      "cell_type": "markdown",
      "metadata": {
        "id": "gaZR2Bs-jcCx"
      },
      "source": [
        "## 7.3 Reflect\n",
        "\n",
        "Write a paragraph on any reflections you have. Was this hard? Easy?  What parts were most challenging or easiest? What did you like or dislike about the assignment?  Share whatever important thoughts you have abou this assignment."
      ]
    },
    {
      "cell_type": "markdown",
      "metadata": {
        "id": "jhdBQ5ocjcCy"
      },
      "source": [
        "I found this work to be both tough and fascinating. To extract information, it\n",
        "was required to carefully investigate the stucture of the JSON data. Despite\n",
        "the challenge, it was rewarding because it improved my problem-solving\n",
        "abilities. The hardest part was putting sentences together to make a paragraph\n",
        "that made sense. Understanding the intricate data structure was crucial, and it was a good learning experience. My Phyton skills increased as a result of using what i had learnt to evaluate actual data. It made me realize how important\n",
        "precision is when handling complicated information. Despite the challenges,it\n",
        "was a helpful experience that increased my proficiency with computer data managment.* Put your response here"
      ]
    },
    {
      "cell_type": "markdown",
      "metadata": {
        "id": "1QepBj4yjcCy"
      },
      "source": [
        "---\n",
        "\n",
        "# Example\n",
        "\n",
        "Below is an example of something similar, but this uses information my and my friend's kids instead of grades."
      ]
    },
    {
      "cell_type": "code",
      "execution_count": 29,
      "metadata": {
        "id": "2Fg5ouAnjcCy",
        "outputId": "89f58ddb-b59b-4b46-86e7-75c2346041f5",
        "colab": {
          "base_uri": "https://localhost:8080/"
        }
      },
      "outputs": [
        {
          "output_type": "stream",
          "name": "stdout",
          "text": [
            "Hi, my name is Paul. I've got 3 kids. Their names are Ellie, Ada, Teddy.\n",
            "My friend, Anny has 1 kids. That's fewer than me. Their names are 1\n"
          ]
        }
      ],
      "source": [
        "hds5210 = \"\"\"\n",
        "{\n",
        "    \"me\": {\n",
        "        \"name\": \"Paul\",\n",
        "        \"kids\": [\"Ellie\", \"Ada\", \"Teddy\"]\n",
        "    },\n",
        "    \"friend\": {\n",
        "        \"name\": \"Anny\",\n",
        "        \"kids\": [\"Abby\"]\n",
        "    }\n",
        "}\n",
        "\"\"\"\n",
        "\n",
        "import json\n",
        "\n",
        "info = json.loads(hds5210)\n",
        "\n",
        "me = info[\"me\"][\"name\"]\n",
        "my_kids_count = len(info[\"me\"][\"kids\"])\n",
        "kids_list = \", \".join(info[\"me\"][\"kids\"])\n",
        "friend = info[\"friend\"][\"name\"]\n",
        "friends_kid_count = len(info[\"friend\"][\"kids\"])\n",
        "friend_kids = \", \".join(info[\"friend\"][\"kids\"])\n",
        "compare = \"more\" if friends_kid_count > my_kids_count else \"fewer\"\n",
        "\n",
        "print(f\"Hi, my name is {me}. I've got {my_kids_count} kids. Their names are {kids_list}.\")\n",
        "print(f\"My friend, {friend} has {friends_kid_count} kids. That's {compare} than me. Their names are {friends_kid_count}\")"
      ]
    }
  ],
  "metadata": {
    "kernelspec": {
      "display_name": "Python 3",
      "language": "python",
      "name": "python3"
    },
    "language_info": {
      "codemirror_mode": {
        "name": "ipython",
        "version": 3
      },
      "file_extension": ".py",
      "mimetype": "text/x-python",
      "name": "python",
      "nbconvert_exporter": "python",
      "pygments_lexer": "ipython3",
      "version": "3.9.16"
    },
    "colab": {
      "provenance": []
    }
  },
  "nbformat": 4,
  "nbformat_minor": 0
}