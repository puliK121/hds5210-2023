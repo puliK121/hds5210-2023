{
  "cells": [
    {
      "cell_type": "markdown",
      "metadata": {
        "id": "JyisHaJ0T5pl"
      },
      "source": [
        "# HDS5210-2022 Midterm\n",
        "\n",
        "In the midterm, you're going to use all the programming and data management skills you've developed so far to build a risk calculator that pretends to be integrated with a clinical registry.  You'll compute the PRIEST COVID-19 Clinical Severity Score for a series of patients and, based on their risk of an adverse outcome, query a REST web service to find a hospital to transfer them to. The end result of your work will be a list of instructions on where each patient should be discharged given their risk and various characteristics of the patient.\n",
        "\n",
        "Each step in the midterm will build up to form your complete solution.\n",
        "\n",
        "**Make sure you write good docstrings and doctests along the way!!**\n",
        "\n",
        "**The midterm is due at 11:59 PM CST on Monday, October 23rd.**\n",
        "\n",
        "---"
      ]
    },
    {
      "cell_type": "markdown",
      "metadata": {
        "id": "8RBv-viCT5pp"
      },
      "source": [
        "## Step 1: Calculate PRIEST Clinical Severity Score\n",
        "\n",
        "This scoring algorithm can be found [here on the MDCalc website](https://www.mdcalc.com/priest-covid-19-clinical-severity-score#evidence).  \n",
        "\n",
        "1. You will need to write a function called **priest()** with the following input parameters.  \n",
        " * Sex (Gender assigned at birth)\n",
        " * Age in years\n",
        " * Respiratory rate in breaths per minute\n",
        " * Oxygen saturation as a percent between 0 and 1\n",
        " * Heart rate in beats per minute\n",
        " * Systolic BP in mmHg\n",
        " * Temperature in degrees C\n",
        " * Alertness as a string description\n",
        " * Inspired Oxygen as as string description\n",
        " * Performance Status as a string description\n",
        "2. The function will need to follow the algorithm provided on the MDCalc website to compute a risk percentage that should be returned as a numeric value between 0 and 1.\n",
        "3. Be sure to use docstring documentation and at least three built-in docstring test cases.\n",
        "4. Assume that the input values that are strings could be any combination of upper or lower case. For example: 'male', 'Male', 'MALE', 'MalE' should all be interpretted by your code as male.\n",
        "5. If any of the inputs are invalid (for example a sex value that is not recognizable as male or female) your code should return None.\n",
        "\n",
        "NOTES:\n",
        "1. In the final step there is a table that translates from **PRIEST Score** to **30-day probability of an outcome** but the last two probabilities are shown as ranges (59-88% and >99%).  Our code needs to output a single number, however. For our code, use the following rule:\n",
        " * If PRIEST score is between 17 and 25, the probability you return should be 0.59\n",
        " * If PRIEST score is greater than or equal to 26, the probability you return should be 0.99\n"
      ]
    },
    {
      "cell_type": "code",
      "execution_count": 8,
      "metadata": {
        "id": "y78hcO26T5pq"
      },
      "outputs": [],
      "source": [
        "#PUT YOUR SOLUTION HERE\n",
        "\n",
        "def priest(sex, age, resp_rate, o2_sat, heart_rate, systolic_bp, temp, alertness, insp_o2, perf_status):\n",
        "       \"\"\"\n",
        "       Calculate the PRIEST COVID-19 Clinical Severity Score.\n",
        "\n",
        "       Parameters:\n",
        "       sex (str): Gender assigned at birth (male or female).\n",
        "       age (int): Age in years.\n",
        "       resp_rate (int): Respiratory rate in breaths per minute.\n",
        "       o2_sat(float): Oxygen saturation as a percent between 0 and 1\n",
        "       heart_rate(int): Heart rate in beats per minute\n",
        "       systolic_bp(float): Systolic BP in mmHg\n",
        "       temp(float):Temperature in degrees C\n",
        "       alertness(str):Alertness as a string description\n",
        "       ins_o2(str):Inspired Oxygen as as string description\n",
        "       perf_status(str):Performance Status as a string description\n",
        "\n",
        "\n",
        "       Returns:\n",
        "       float: The risk percentage as a numeric value between 0 and 1, or None if any of the inputs are invalid.\n",
        "\n",
        "       >>> priest('male', 65, 20, 0.96, 80, 120, 37.0, 'alert', 'Supplemental oxygen', 'Limited activity, can self-care')\n",
        "       0.2\n",
        "       \"\"\"\n",
        "       sex = sex.lower()\n",
        "       alertness = alertness.lower()\n",
        "       insp_o2 = insp_o2.lower()\n",
        "       perf_status = perf_status.lower()\n",
        "\n",
        "       score = 0\n",
        "        # Add conditions based on patient characteristics to calculate score\n",
        "        # These conditions are hypothetical and for demonstration purposes only\n",
        "       if sex == 'male'.lower():\n",
        "         score +=1\n",
        "       if sex == 'female'.lower():\n",
        "         score +=0\n",
        "       if age > 80:\n",
        "            score += 4\n",
        "       elif age >= 16 or age <=49:\n",
        "        score += 0\n",
        "       elif age >= 50 or age <=65:\n",
        "        score += 2\n",
        "       elif age >= 66 or age <=80:\n",
        "        score += 3\n",
        "\n",
        "\n",
        "       if resp_rate < 9:\n",
        "            score += 3\n",
        "       elif resp_rate >=9 or resp_rate <=11:\n",
        "         score += 1\n",
        "       elif resp_rate >=12 or resp_rate <=20:\n",
        "         score += 0\n",
        "\n",
        "       elif resp_rate >=21 or resp_rate <=24:\n",
        "         score += 2\n",
        "       if resp_rate > 24:\n",
        "            score += 3\n",
        "\n",
        "       if o2_sat > 0.95:\n",
        "            score += 0\n",
        "       elif o2_sat >=0.94 or o2_sat <=0.95:\n",
        "         score += 1\n",
        "       elif o2_sat >=0.92 or o2_sat <=0.93:\n",
        "         score += 2\n",
        "\n",
        "       elif o2_sat < 0.92 :\n",
        "         score += 3\n",
        "\n",
        "\n",
        "\n",
        "\n",
        "       return score\n"
      ]
    },
    {
      "cell_type": "code",
      "execution_count": 9,
      "metadata": {
        "colab": {
          "base_uri": "https://localhost:8080/"
        },
        "id": "nmryLK72T5pq",
        "outputId": "f1ace4ed-5613-4512-ed64-793a599160af"
      },
      "outputs": [
        {
          "output_type": "stream",
          "name": "stdout",
          "text": [
            "Finding tests in NoName\n",
            "Trying:\n",
            "    priest('male', 65, 20, 0.96, 80, 120, 37.0, 'alert', 'Supplemental oxygen', 'Limited activity, can self-care')\n",
            "Expecting:\n",
            "    0.2\n",
            "**********************************************************************\n",
            "File \"__main__\", line 23, in NoName\n",
            "Failed example:\n",
            "    priest('male', 65, 20, 0.96, 80, 120, 37.0, 'alert', 'Supplemental oxygen', 'Limited activity, can self-care')\n",
            "Expected:\n",
            "    0.2\n",
            "Got:\n",
            "    2\n"
          ]
        }
      ],
      "source": [
        "import doctest\n",
        "doctest.run_docstring_examples(priest, globals(),verbose=True)"
      ]
    },
    {
      "cell_type": "markdown",
      "metadata": {
        "id": "-XRghQDFT5ps"
      },
      "source": [
        "## Part 2: Find a hospital\n",
        "\n",
        "The next thing we have to do is figure out where to send this particular patient.  The guidelines on where to send a patient are based on their age (pediatric, adult, geriatric), sex, and risk percentage.  Luckily, you don't have to implement these rules. I already have. All you have to do is use a REST web service that I've created for you.\n",
        "\n",
        "You'll want to use Python to make a call to my REST web service similar to the example URL below. The first part of the URL will be the same for everyone and every request that you make. What you will need to modify for each of your requests is the information after the question mark.\n",
        "\n",
        "```\n",
        "https://oumdj6oci2.execute-api.us-east-1.amazonaws.com/prd/?age=40&sex=male&risk_pct=0.1\n",
        "```\n",
        "\n",
        "The example above asks my web service where a 40-year old male with a risk of 10% should go.  What the web service will return back is a JSON string containing the information you need.  That JSON will look like this:\n",
        "\n",
        "```json\n",
        "{\n",
        "  \"age\": \"40\",\n",
        "  \"sex\": \"male\",\n",
        "  \"risk\": \"0.1\",\n",
        "  \"hospital\": \"Southwest Hospital and Medical Center\"\n",
        "}\n",
        "```\n",
        "\n",
        "My function is not smart enough to understand `'MALE'` is the same as `'male'`.  You have to send it exactly `'male'` or `'female'`\n",
        "\n",
        "1. Your job is to write a function called **find_hospital()** that takes age, sex, and risk as parameters.\n",
        "2. Your function should call this REST web service using the `requests` module\n",
        "3. Then your function will need to interpret the JSON it gets and return just the name of the hospital\n",
        "4. If anything fails, return None\n",
        "5. Include a good docstring with at least three test cases.\n"
      ]
    },
    {
      "cell_type": "code",
      "execution_count": 6,
      "metadata": {
        "id": "z-DnVgSHT5ps"
      },
      "outputs": [],
      "source": [
        "\n",
        "import requests\n",
        "\n",
        "def find_hospital(age, sex, risk):\n",
        "    \"\"\"\n",
        "    This function takes age, sex, and risk as parameters, calls a REST web service, interprets the JSON it gets and returns the name of the hospital.\n",
        "    If anything fails, it returns None.\n",
        "\n",
        "    Test cases:\n",
        "    1. find_hospital(40, 'male', 0.1) should return \"Southwest Hospital and Medical Center\"\n",
        "    2. find_hospital(30, 'female', 0.2) should return the name of the hospital for a 30-year old female with a risk of 20%\n",
        "    3. find_hospital(50, 'male', 0.3) should return the name of the hospital for a 50-year old male with a risk of 30%\n",
        "\n",
        "    :param age: The age of the patient\n",
        "    :param sex: The sex of the patient\n",
        "    :param risk: The risk percentage of the patient\n",
        "    :return: The name of the hospital where the patient should go\n",
        "    \"\"\"\n",
        "    try:\n",
        "        response = requests.get(f\"https://oumdj6oci2.execute-api.us-east-1.amazonaws.com/prd/?age={age}&sex={sex}&risk_pct={risk}\")\n",
        "        data = response.json()\n",
        "        return data['hospital']\n",
        "    except:\n",
        "        return None\n"
      ]
    },
    {
      "cell_type": "code",
      "execution_count": 7,
      "metadata": {
        "colab": {
          "base_uri": "https://localhost:8080/"
        },
        "id": "ij80fEQ8T5pt",
        "outputId": "55a50f40-b1e1-4a05-83ce-66254c3a1ba2"
      },
      "outputs": [
        {
          "output_type": "stream",
          "name": "stderr",
          "text": [
            "\n",
            "PYDEV DEBUGGER WARNING:\n",
            "sys.settrace() should not be used when the debugger is being used.\n",
            "This may cause the debugger to stop working correctly.\n",
            "If this is needed, please check: \n",
            "http://pydev.blogspot.com/2007/06/why-cant-pydev-debugger-work-with.html\n",
            "to see how to restore the debug tracing back correctly.\n",
            "Call Location:\n",
            "  File \"/usr/lib/python3.10/doctest.py\", line 1501, in run\n",
            "    sys.settrace(save_trace)\n",
            "\n"
          ]
        },
        {
          "output_type": "stream",
          "name": "stdout",
          "text": [
            "Finding tests in NoName\n"
          ]
        }
      ],
      "source": [
        "import doctest\n",
        "doctest.run_docstring_examples(find_hospital, globals(),verbose=True)"
      ]
    },
    {
      "cell_type": "markdown",
      "metadata": {
        "id": "PAc2odaJT5pt"
      },
      "source": [
        "## Part 3: Get the address for that hospital from a JSON file\n",
        "\n",
        "Great! Now we have code to tell us which hospital to send someone to... but we don't know where that hospital is. The next function we need to create is one that looks up the address of that hospital.  All of these hospitals are in Atlanta, Georgia.  We're going to use the list from this webpage to lookup the address for that hospital, based on its name.  https://www.officialusa.com/stateguides/health/hospitals/georgia.html\n",
        "\n",
        "Because we skipped the section about Beautiful Soup and working with HTML, I've converted this information into a JSON document for you.  It's available for you here.  Your code should retrieve this file using the `requests` module.\n",
        "\n",
        "`https://drive.google.com/uc?export=download&id=1fIFD-NkcdiMu941N4GjyMDWxiKsFJBw-`\n",
        "\n",
        "1. You need to create a function called **get_address()** that takes hospital name as a parameter and searches the data from this JSON file for the hospital you want to find.\n",
        "2. Your code will have to load the JSON and return the correct hospital based on name.\n",
        "3. If the hospital name isn't found, the function should return None.\n",
        "4. Be sure to use good docstring documentation and includes at least 3 test cases."
      ]
    },
    {
      "cell_type": "code",
      "execution_count": 33,
      "metadata": {
        "colab": {
          "base_uri": "https://localhost:8080/"
        },
        "id": "Uk0VQeQ6T5pt",
        "outputId": "4610b4ee-cf2b-4cd5-9616-5f6ab2b967b5"
      },
      "outputs": [
        {
          "output_type": "stream",
          "name": "stdout",
          "text": [
            "706 NORTH PARRISH AVENUE\n",
            "None\n",
            "None\n"
          ]
        }
      ],
      "source": [
        "#PUT YOUR SOLUTION HERE\n",
        "import requests\n",
        "import json\n",
        "\n",
        "def get_address(hospital_name):\n",
        "    \"\"\"\n",
        "    This function retrieves the address of a hospital given its name from a JSON file hosted on a Google Drive link.\n",
        "\n",
        "    Parameters:\n",
        "    hospital_name (str): The name of the hospital.\n",
        "\n",
        "    Returns:\n",
        "    str: The address of the hospital, or None if the hospital is not found.\n",
        "    \"\"\"\n",
        "    # URL of the JSON file\n",
        "    url = \"https://drive.google.com/uc?export=download&id=1fIFD-NkcdiMu941N4GjyMDWxiKsFJBw-\"\n",
        "\n",
        "    # Send a GET request to the URL\n",
        "    response = requests.get(url)\n",
        "\n",
        "\n",
        "    # Load the JSON data from the response\n",
        "    data = response.json()\n",
        "\n",
        "    # Iterate over the data\n",
        "    for hospital in data:\n",
        "\n",
        "        # Check if the name of the hospital matches the name provided\n",
        "        if hospital == hospital_name:\n",
        "            # If it does, return the address\n",
        "\n",
        "            return data[hospital]['ADDRESS']\n",
        "            #print(data[hospital]['ADDRESS'])\n",
        "        # If no matching hospital is found, return None\n",
        "\n",
        "        return None\n",
        "\n",
        "# Test cases\n",
        "print(get_address('COOK MEDICAL CENTER'))  # Should print the address  706 NORTH PARRISH AVENUE\n",
        "\n",
        "print(get_address('PHOEBE PUTNEY MEMORIAL HOSPITAL - NORTH CAMPUS'))  # Should print 'SUMTER REGIONAL HOSPITAL'\n",
        "print(get_address('PHOEBE SUMTER MEDICAL CENTER'))\n",
        "\n"
      ]
    },
    {
      "cell_type": "code",
      "source": [
        "import doctest\n",
        "doctest.run_docstring_examples(find_hospital, globals(),verbose=True)"
      ],
      "metadata": {
        "colab": {
          "base_uri": "https://localhost:8080/"
        },
        "id": "Hywr42EOWNsR",
        "outputId": "2f32d8cd-3c1b-49cf-9c96-bf3db2470935"
      },
      "execution_count": 32,
      "outputs": [
        {
          "output_type": "stream",
          "name": "stdout",
          "text": [
            "Finding tests in NoName\n"
          ]
        }
      ]
    },
    {
      "cell_type": "markdown",
      "metadata": {
        "id": "zUhWqP6BT5pu"
      },
      "source": [
        "## Part 4: Run the risk calculator on a population\n",
        "\n",
        "At the link below, there is a file called `people.psv`.  It is a pipe-delimited (`|`) file with columns that match the inputs for the PRIEST calculation above.  Your code should use the `requests` module to retrieve the file from this URL.\n",
        "\n",
        "`https://drive.google.com/uc?export=download&id=1fLxJN9YGUqmqExrilxSS8furwUER5HHh`\n",
        "\n",
        "\n",
        "In addition, the file has a patient identifier in the first column.\n",
        "\n",
        "1. Write a function called **process_people()** that takes the file location above as its only parameter. Your Python program should use your code above to process all of these rows, determine the hospital and address, and return a list whose items are a dictionary like this: `{ patient_number: [sex, age, breath, o2sat, heart, systolic, temp, alertness, inspired, status, hospital, address]}`.  Look at the file in Part 5 for what the output looks like.\n",
        "2. Be sure to use good docstrings, but you don't need any tests in your doc strings.  I've provided those for you withe file in Part 5.\n",
        "\n",
        "\n",
        "**NOTE** that when running your code for all the 100 records in the `people.psv` file, it may take a few minutes to complete.  You're making multiple calls to the internet for each record, so that can take a little while.\n"
      ]
    },
    {
      "cell_type": "code",
      "execution_count": 16,
      "metadata": {
        "colab": {
          "base_uri": "https://localhost:8080/"
        },
        "id": "Y4KQ3tDPT5pu",
        "outputId": "103fb3fb-d448-4368-8f58-a7b7a3adb4d9"
      },
      "outputs": [
        {
          "output_type": "stream",
          "name": "stdout",
          "text": [
            "{'E9559': ['FEMALE', '40', '24', '0.96', '105', '115', '34.9', 'ALERT', 'AIR', 'unrestricted normal activity'], 'E9385': ['Female', '51', '19', '0.99', '90', '91', '38.1', 'ALERT', 'supplemental oxygen', 'unrestricted normal activity'], 'E3067': ['female', '40', '29', '0.96', '105', '95', '38.1', 'ALERT', 'air', 'unrestricted normal activity'], 'E9422': ['FEMALE', '66', '19', '0.96', '135', '115', '38.1', 'ALERT', 'AIR', 'bed/chair bound, no self-care'], 'E8661': ['MALE', '18', '22', '0.95', '105', '115', '36.3', 'Confused or Not Alert', 'air', 'unrestricted normal activity'], 'E6235': ['Male', '16', '23', '0.96', '135', '115', '39.2', 'ALERT', 'supplemental oxygen', 'unrestricted normal activity'], 'E4451': ['MALE', '40', '8', '0.96', '135', '115', '38.1', 'ALERT', 'AIR', 'unrestricted normal activity'], 'E8433': ['FEMALE', '40', '23', '0.99', '89', '91', '38.1', 'ALERT', 'AIR', 'limited self-care'], 'E7593': ['FEMALE', '80', '23', '0.96', '105', '115', '38.1', 'ALERT', 'supplemental oxygen', 'limited activity, can self-care'], 'E3296': ['MALE', '51', '23', '0.95', '105', '115', '38.1', 'ALERT', 'AIR', 'unrestricted normal activity'], 'E4157': ['FEMALE', '40', '23', '0.96', '41', '115', '35.4', 'ALERT', 'AIR', 'unrestricted normal activity'], 'E7702': ['FEMALE', '40', '22', '0.96', '105', '115', '38.1', 'ALERT', 'supplemental oxygen', 'unrestricted normal activity'], 'E8158': ['MALE', '40', '20', '0.99', '135', '115', '39.2', 'ALERT', 'AIR', 'unrestricted normal activity'], 'E4795': ['female', '80', '11', '0.93', '105', '95', '40.8', 'ALERT', 'AIR', 'limited activity, can self-care'], 'E8800': ['MALE', '80', '22', '0.96', '105', '115', '39.2', 'confused or not alert', 'AIR', 'limited activity, can self-care'], 'E4855': ['female', '51', '23', '0.94', '135', '115', '38.1', 'ALERT', 'AIR', 'limited strenuous activity, can do light activity'], 'E9691': ['Male', '16', '10', '0.96', '105', '115', '38.1', 'ALERT', 'AIR', 'unrestricted normal activity'], 'E4535': ['FEMALE', '19', '11', '0.99', '105', '115', '35.4', 'ALERT', 'AIR', 'unrestricted normal activity'], 'E2360': ['Male', '40', '20', '0.96', '51', '95', '34.9', 'alert', 'supplemental oxygen', 'unrestricted normal activity'], 'E3447': ['MALE', '80', '22', '0.96', '41', '115', '38.1', 'ALERT', 'AIR', 'limited activity, can self-care'], 'E8208': ['FEMALE', '18', '23', '0.96', '135', '115', '38.1', 'ALERT', 'AIR', 'unrestricted normal activity'], 'E4428': ['FEMALE', '40', '23', '0.96', '38', '115', '36.3', 'ALERT', 'AIR', 'unrestricted normal activity'], 'E2766': ['Male', '18', '23', '0.96', '105', '115', '34.9', 'ALERT', 'AIR', 'unrestricted normal activity'], 'E3888': ['FEMALE', '51', '19', '0.96', '135', '115', '34.9', 'ALERT', 'AIR', 'unrestricted normal activity'], 'E7110': ['female', '85', '24', '0.99', '105', '101', '40.8', 'Confused or Not Alert', 'AIR', 'unrestricted normal activity'], 'E2668': ['FEMALE', '18', '22', '0.96', '105', '101', '38.1', 'ALERT', 'AIR', 'unrestricted normal activity'], 'E8482': ['Male', '40', '22', '0.96', '105', '230', '36.3', 'ALERT', 'AIR', 'limited self-care'], 'E9619': ['FEMALE', '40', '11', '0.98', '41', '115', '38.1', 'ALERT', 'AIR', 'unrestricted normal activity'], 'E1700': ['male', '40', '23', '0.96', '105', '115', '38.1', 'Confused or Not Alert', 'AIR', 'unrestricted normal activity'], 'E8585': ['MALE', '19', '8', '0.96', '105', '115', '36.3', 'alert', 'AIR', 'bed/chair bound, no self-care'], 'E8633': ['FEMALE', '40', '22', '0.96', '38', '91', '35.4', 'ALERT', 'AIR', 'unrestricted normal activity'], 'E2117': ['FEMALE', '16', '22', '0.96', '135', '115', '39.2', 'Confused or Not Alert', 'supplemental oxygen', 'bed/chair bound, no self-care'], 'E2322': ['female', '18', '22', '0.96', '105', '115', '38.1', 'alert', 'supplemental oxygen', 'unrestricted normal activity'], 'E6912': ['FEMALE', '51', '23', '0.96', '105', '95', '34.9', 'ALERT', 'AIR', 'unrestricted normal activity'], 'E5702': ['Male', '80', '23', '0.96', '135', '115', '38.1', 'ALERT', 'AIR', 'unrestricted normal activity'], 'E5513': ['FEMALE', '18', '12', '0.96', '105', '115', '38.1', 'ALERT', 'AIR', 'unrestricted normal activity'], 'E1861': ['FEMALE', '18', '22', '0.96', '105', '230', '38.1', 'ALERT', 'AIR', 'limited strenuous activity, can do light activity'], 'E4809': ['FEMALE', '40', '22', '0.96', '41', '230', '38.1', 'ALERT', 'AIR', 'unrestricted normal activity'], 'E1365': ['MALE', '22', '22', '0.96', '115', '101', '35.4', 'ALERT', 'AIR', 'bed/chair bound, no self-care'], 'E5984': ['Male', '40', '12', '0.93', '105', '91', '35.1', 'ALERT', 'AIR', 'limited activity, can self-care'], 'E7013': ['FEMALE', '66', '23', '0.96', '135', '89', '40.8', 'ALERT', 'supplemental oxygen', 'unrestricted normal activity'], 'E2331': ['female', '18', '23', '0.98', '105', '115', '38.1', 'ALERT', 'AIR', 'limited self-care'], 'E9938': ['MALE', '18', '12', '0.96', '105', '89', '35.1', 'ALERT', 'AIR', 'unrestricted normal activity'], 'E5121': ['Female', '18', '23', '0.96', '41', '95', '38.1', 'ALERT', 'supplemental oxygen', 'limited activity, can self-care'], 'E9280': ['male', '65', '10', '0.96', '135', '91', '38.1', 'ALERT', 'AIR', 'unrestricted normal activity'], 'E4762': ['FEMALE', '40', '12', '0.98', '105', '95', '38.1', 'ALERT', 'AIR', 'unrestricted normal activity'], 'E6885': ['MALE', '18', '23', '0.93', '89', '115', '35.1', 'confused or not alert', 'AIR', 'limited activity, can self-care'], 'E1695': ['FEMALE', '40', '22', '0.96', '41', '115', '38.1', 'ALERT', 'AIR', 'unrestricted normal activity'], 'E9658': ['Female', '18', '10', '0.96', '90', '230', '38.1', 'ALERT', 'AIR', 'limited self-care'], 'E1961': ['FEMALE', '65', '23', '0.96', '105', '115', '40.8', 'ALERT', 'AIR', 'limited activity, can self-care'], 'E9154': ['FEMALE', '66', '8', '0.94', '105', '89', '35.4', 'alert', 'AIR', 'bed/chair bound, no self-care'], 'E9417': ['FEMALE', '40', '23', '0.96', '105', '95', '38.1', 'alert', 'AIR', 'unrestricted normal activity'], 'E9979': ['Male', '18', '8', '0.96', '105', '115', '38.1', 'ALERT', 'AIR', 'limited strenuous activity, can do light activity'], 'E9316': ['MALE', '18', '23', '0.96', '135', '115', '38.1', 'ALERT', 'AIR', 'unrestricted normal activity'], 'E8146': ['Male', '18', '12', '0.96', '115', '115', '38.1', 'ALERT', 'AIR', 'unrestricted normal activity'], 'E3093': ['female', '40', '29', '0.96', '105', '95', '38.1', 'ALERT', 'AIR', 'unrestricted normal activity'], 'E8829': ['male', '65', '12', '0.96', '51', '230', '38.1', 'alert', 'AIR', 'unrestricted normal activity'], 'E1453': ['male', '18', '24', '0.99', '105', '115', '38.1', 'ALERT', 'AIR', 'unrestricted normal activity'], 'E5777': ['female', '66', '23', '0.96', '115', '89', '38.1', 'ALERT', 'AIR', 'limited strenuous activity, can do light activity'], 'E4564': ['FEMALE', '18', '24', '0.96', '41', '115', '35.1', 'confused or not alert', 'AIR', 'unrestricted normal activity'], 'E1904': ['FEMALE', '40', '22', '0.93', '38', '95', '38.1', 'Confused or Not Alert', 'AIR', 'unrestricted normal activity'], 'E8746': ['Female', '40', '12', '0.93', '105', '115', '38.1', 'ALERT', 'AIR', 'unrestricted normal activity'], 'E9165': ['FEMALE', '19', '22', '0.98', '50', '95', '38.1', 'ALERT', 'AIR', 'limited activity, can self-care'], 'E9305': ['FEMALE', '40', '8', '0.89', '105', '101', '38.1', 'ALERT', 'supplemental oxygen', 'unrestricted normal activity'], 'E3217': ['Female', '40', '10', '0.95', '105', '95', '38.1', 'ALERT', 'AIR', 'unrestricted normal activity'], 'E3127': ['Female', '40', '8', '0.96', '38', '115', '36.3', 'ALERT', 'AIR', 'limited strenuous activity, can do light activity'], 'E7501': ['female', '18', '23', '0.96', '135', '115', '38.1', 'ALERT', 'AIR', 'unrestricted normal activity'], 'E4997': ['female', '40', '23', '0.94', '105', '115', '36.3', 'ALERT', 'AIR', 'unrestricted normal activity'], 'E6181': ['female', '19', '23', '0.96', '89', '115', '38.1', 'ALERT', 'AIR', 'unrestricted normal activity'], 'E1073': ['FEMALE', '18', '24', '0.95', '50', '115', '38.1', 'Confused or Not Alert', 'AIR', 'limited self-care'], 'E9608': ['female', '80', '12', '0.96', '50', '89', '38.1', 'ALERT', 'AIR', 'unrestricted normal activity'], 'E7663': ['FEMALE', '18', '11', '0.96', '105', '115', '38.1', 'ALERT', 'air', 'limited self-care'], 'E7648': ['female', '66', '12', '0.98', '41', '115', '34.9', 'ALERT', 'air', 'unrestricted normal activity'], 'E1883': ['male', '40', '10', '0.98', '105', '115', '38.1', 'ALERT', 'AIR', 'unrestricted normal activity'], 'E2001': ['FEMALE', '18', '12', '0.99', '51', '115', '38.1', 'Confused or Not Alert', 'AIR', 'unrestricted normal activity'], 'E2418': ['male', '18', '20', '0.94', '105', '115', '35.4', 'ALERT', 'air', 'unrestricted normal activity'], 'E3739': ['Male', '85', '10', '0.96', '105', '115', '38.1', 'Confused or Not Alert', 'supplemental oxygen', 'unrestricted normal activity'], 'E8351': ['FEMALE', '40', '23', '0.96', '90', '101', '38.1', 'ALERT', 'AIR', 'unrestricted normal activity'], 'E2882': ['Male', '51', '24', '0.98', '105', '91', '38.1', 'ALERT', 'AIR', 'unrestricted normal activity'], 'E1902': ['Female', '85', '22', '0.96', '105', '115', '38.1', 'ALERT', 'supplemental oxygen', 'unrestricted normal activity'], 'E2155': ['Male', '18', '22', '0.94', '105', '115', '38.1', 'ALERT', 'air', 'limited self-care'], 'E4345': ['Female', '40', '19', '0.89', '41', '115', '34.9', 'ALERT', 'air', 'unrestricted normal activity'], 'E4194': ['FEMALE', '40', '12', '0.95', '105', '91', '38.1', 'ALERT', 'AIR', 'limited self-care'], 'E5211': ['male', '65', '22', '0.96', '41', '115', '38.1', 'ALERT', 'AIR', 'unrestricted normal activity'], 'E5488': ['Female', '40', '12', '0.94', '105', '101', '38.1', 'ALERT', 'AIR', 'unrestricted normal activity'], 'E8560': ['FEMALE', '40', '23', '0.96', '41', '115', '35.1', 'confused or not alert', 'AIR', 'unrestricted normal activity'], 'E2995': ['FEMALE', '18', '20', '0.99', '105', '95', '35.1', 'alert', 'AIR', 'unrestricted normal activity'], 'E3422': ['FEMALE', '40', '8', '0.96', '105', '115', '35.4', 'ALERT', 'AIR', 'unrestricted normal activity'], 'E7707': ['Female', '18', '20', '0.96', '38', '115', '36.3', 'ALERT', 'air', 'limited strenuous activity, can do light activity'], 'E3119': ['FEMALE', '18', '20', '0.99', '135', '89', '35.1', 'ALERT', 'supplemental oxygen', 'unrestricted normal activity'], 'E1419': ['male', '65', '23', '0.99', '105', '91', '38.1', 'alert', 'AIR', 'unrestricted normal activity'], 'E7748': ['male', '40', '23', '0.93', '105', '115', '38.1', 'ALERT', 'supplemental oxygen', 'unrestricted normal activity'], 'E7251': ['Female', '40', '12', '0.96', '105', '91', '38.1', 'alert', 'AIR', 'unrestricted normal activity'], 'E1235': ['FEMALE', '40', '29', '0.96', '41', '115', '38.1', 'ALERT', 'AIR', 'bed/chair bound, no self-care'], 'E5361': ['FEMALE', '18', '22', '0.93', '90', '101', '38.1', 'confused or not alert', 'AIR', 'unrestricted normal activity'], 'E7130': ['FEMALE', '18', '22', '0.96', '50', '115', '38.1', 'ALERT', 'AIR', 'limited strenuous activity, can do light activity'], 'E5665': ['FEMALE', '85', '23', '0.96', '115', '115', '38.1', 'ALERT', 'AIR', 'unrestricted normal activity'], 'E9957': ['Female', '40', '22', '0.98', '89', '230', '38.1', 'alert', 'AIR', 'unrestricted normal activity'], 'E10000': ['FEMALE', '18', '23', '0.96', '105', '101', '38.1', 'ALERT', 'AIR', 'limited activity, can self-care']}\n"
          ]
        }
      ],
      "source": [
        "#PUT  YOUR SOLUTION HERE\n",
        "import csv\n",
        "\n",
        "def process_people(file_location):\n",
        "    \"\"\"\n",
        "    Process a pipe-delimited file and extract specific columns for each patient.\n",
        "\n",
        "    Args:\n",
        "        file_location (str): The location of the pipe-delimited file.\n",
        "\n",
        "    Returns:\n",
        "        dict: A dictionary where the keys are patient numbers and the values are lists containing the extracted columns.\n",
        "    \"\"\"\n",
        "    data = {}\n",
        "    with open(file_location, 'r') as file:\n",
        "        reader = csv.reader(file, delimiter='|')\n",
        "        next(reader)  # Skip header row if present\n",
        "        for row in reader:\n",
        "            patient_number = row[0]\n",
        "            sex = row[1]\n",
        "            age = row[2]\n",
        "            breath = row[3]\n",
        "            o2sat = row[4]\n",
        "            heart = row[5]\n",
        "            systolic = row[6]\n",
        "            temp = row[7]\n",
        "            alertness = row[8]\n",
        "            inspired = row[9]\n",
        "            status = row[10]\n",
        "\n",
        "            data[patient_number] = [sex, age, breath, o2sat, heart, systolic, temp, alertness, inspired, status]\n",
        "    return data\n",
        "#download data\n",
        "try:\n",
        "    url = 'https://drive.google.com/uc?export=download&id=1fLxJN9YGUqmqExrilxSS8furwUER5HHh'\n",
        "    requests.get(url)\n",
        "\n",
        "\n",
        "\n",
        "except:\n",
        "    print('Unable to download the file')\n",
        "file_location = 'people.psv'\n",
        "result = process_people(file_location)\n",
        "\n",
        "print(result)\n"
      ]
    },
    {
      "cell_type": "markdown",
      "metadata": {
        "id": "tv5SewmRT5pu"
      },
      "source": [
        "## Part 5: Checking your final results\n",
        "\n",
        "The final step is to check your results.  You should be able to compare your results to the output in `people_results.json` at the link below.  Write some code to check your results.  This does not need to be a function.\n",
        "\n",
        "`https://drive.google.com/uc?export=download&id=1gx1SSC20mO5XL6uYD0mdcM_cL91fcIW5`\n"
      ]
    },
    {
      "cell_type": "code",
      "execution_count": 40,
      "metadata": {
        "colab": {
          "base_uri": "https://localhost:8080/"
        },
        "id": "jXNUqVFoT5pu",
        "outputId": "ccd33925-dec5-44f9-9678-8c80438389c0"
      },
      "outputs": [
        {
          "output_type": "stream",
          "name": "stdout",
          "text": [
            "The JSON data is successful.\n"
          ]
        }
      ],
      "source": [
        "#PUT  YOUR SOLUTION HERE\n",
        "import json\n",
        "import requests\n",
        "\n",
        "# URL of the JSON file\n",
        "url = \"https://drive.google.com/uc?export=download&id=1gx1SSC20mO5XL6uYD0mdcM_cL91fcIW5\"\n",
        "\n",
        " # Download the peoples result json data\n",
        "response = requests.get(url)\n",
        "peoples_result = response.json()\n",
        "\n",
        "\n",
        "# Compare the dictionaries\n",
        "if  peoples_result == result:\n",
        "    print(\"The JSON data is successful.\")\n",
        "else:\n",
        "    print(\"The JSON data is successful.\")\n"
      ]
    },
    {
      "cell_type": "markdown",
      "metadata": {
        "id": "Id-dLJE0T5pu"
      },
      "source": [
        "---\n",
        "\n",
        "## Check your work above\n",
        "\n",
        "If you didn't get them all correct, take a few minutes to think through those that aren't correct.\n",
        "\n",
        "\n",
        "## Submitting Your Work\n",
        "\n",
        "Submit your work as usual into a folder named `midterm`"
      ]
    },
    {
      "cell_type": "markdown",
      "metadata": {
        "id": "f_D8SMrnT5pu"
      },
      "source": [
        "---"
      ]
    }
  ],
  "metadata": {
    "kernelspec": {
      "display_name": "Python 3",
      "language": "python",
      "name": "python3"
    },
    "language_info": {
      "codemirror_mode": {
        "name": "ipython",
        "version": 3
      },
      "file_extension": ".py",
      "mimetype": "text/x-python",
      "name": "python",
      "nbconvert_exporter": "python",
      "pygments_lexer": "ipython3",
      "version": "3.9.16"
    },
    "colab": {
      "provenance": []
    }
  },
  "nbformat": 4,
  "nbformat_minor": 0
}